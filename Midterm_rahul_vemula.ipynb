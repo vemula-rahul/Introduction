{
 "cells": [
  {
   "cell_type": "markdown",
   "metadata": {},
   "source": [
    "# Rahul Vemula\n",
    "# MidTerm - Part B"
   ]
  },
  {
   "cell_type": "code",
   "execution_count": 46,
   "metadata": {},
   "outputs": [],
   "source": [
    "#importing packages\n",
    "import pandas as pd\n",
    "from cassandra.cluster import Cluster"
   ]
  },
  {
   "cell_type": "code",
   "execution_count": 47,
   "metadata": {},
   "outputs": [],
   "source": [
    "#connecting to cassendra cluster\n",
    "clstr = Cluster()\n",
    "session = clstr.connect()"
   ]
  },
  {
   "cell_type": "code",
   "execution_count": 48,
   "metadata": {},
   "outputs": [
    {
     "name": "stdout",
     "output_type": "stream",
     "text": [
      "chat_db\n",
      "system\n",
      "system_auth\n",
      "system_distributed\n",
      "system_schema\n",
      "system_traces\n",
      "system_views\n",
      "system_virtual_schema\n"
     ]
    }
   ],
   "source": [
    "#description of keyspaces\n",
    "rows = session.execute(\"desc keyspaces\")\n",
    "for row in rows:\n",
    "    print(f\"{row[0]}\")"
   ]
  },
  {
   "cell_type": "code",
   "execution_count": 49,
   "metadata": {},
   "outputs": [
    {
     "data": {
      "text/plain": [
       "<cassandra.cluster.ResultSet at 0x7f84c55bfc10>"
      ]
     },
     "execution_count": 49,
     "metadata": {},
     "output_type": "execute_result"
    }
   ],
   "source": [
    "#Creating keyspace\n",
    "session.execute(\"CREATE KEYSPACE IF NOT EXISTS chat_db WITH REPLICATION = {'class':'SimpleStrategy', 'replication_factor':3}\")"
   ]
  },
  {
   "cell_type": "code",
   "execution_count": 50,
   "metadata": {},
   "outputs": [
    {
     "data": {
      "text/plain": [
       "<cassandra.cluster.ResultSet at 0x7f84c5649f50>"
      ]
     },
     "execution_count": 50,
     "metadata": {},
     "output_type": "execute_result"
    }
   ],
   "source": [
    "# CQL query to create the chat_system table\n",
    "session.execute(\"\"\"\n",
    "CREATE TABLE IF NOT EXISTS chat_db.chat_system ( \n",
    "    user_id TEXT,\n",
    "    date DATE,\n",
    "    file_type TEXT,\n",
    "    file_id TEXT,\n",
    "    file_data BLOB,\n",
    "    PRIMARY KEY (user_id, date, file_type, file_id)\n",
    ");\n",
    "\"\"\")"
   ]
  },
  {
   "cell_type": "code",
   "execution_count": 51,
   "metadata": {},
   "outputs": [],
   "source": [
    "#For creating and inserting data into files\n",
    "with open('file1.jpg','w') as fout1:\n",
    "    fout1.write(\"Image file\")\n",
    "\n",
    "with open('file2.doc','w') as fout2:\n",
    "    fout2.write(\"word file\")\n",
    "\n",
    "with open('file3.pdf','w') as fout3:\n",
    "    fout3.write(\"pdf file\")\n",
    "\n",
    "with open('file4.mp4','w') as fout4:\n",
    "    fout4.write(\"video file\")"
   ]
  },
  {
   "cell_type": "code",
   "execution_count": 52,
   "metadata": {},
   "outputs": [
    {
     "name": "stdout",
     "output_type": "stream",
     "text": [
      "Image file\n",
      "word file\n",
      "pdf file\n",
      "video file\n"
     ]
    }
   ],
   "source": [
    "# Read the output of the files\n",
    "with open('file1.jpg', 'r') as file1:\n",
    "    temp1=file1.read()\n",
    "    print(temp1)\n",
    "\n",
    "with open('file2.doc', 'r') as file2:\n",
    "    temp2=file2.read()\n",
    "    print(temp2)\n",
    "\n",
    "with open('file3.pdf', 'r') as file3:\n",
    "    temp3=file3.read()\n",
    "    print(temp3)\n",
    "\n",
    "with open('file4.mp4', 'r') as file4:\n",
    "    temp4=file4.read()\n",
    "    print(temp4)"
   ]
  },
  {
   "cell_type": "code",
   "execution_count": 53,
   "metadata": {},
   "outputs": [],
   "source": [
    "\n",
    "# function for storing attachment\n",
    "def store_attachment(user_id, date, file_type, file_id, file_data):\n",
    "    insert_query = \"\"\"\n",
    "    INSERT INTO chat_db.chat_system (user_id, date, file_type, file_id, file_data)\n",
    "    VALUES (%s, %s, %s, %s, %s)\n",
    "    \"\"\"\n",
    "    session.execute(insert_query, (user_id, date, file_type, file_id, file_data))\n",
    "    print(\"Attachment stored successfully!\")"
   ]
  },
  {
   "cell_type": "code",
   "execution_count": null,
   "metadata": {},
   "outputs": [
    {
     "name": "stdout",
     "output_type": "stream",
     "text": [
      "Attachment stored successfully!\n",
      "Attachment stored successfully!\n",
      "Attachment stored successfully!\n",
      "Attachment stored successfully!\n"
     ]
    }
   ],
   "source": [
    "# Storing files using store_attachment function\n",
    "store_attachment('user123', '2023-10-08', 'image', 'img001', open('file1.jpg', 'rb').read())\n",
    "store_attachment('user123', '2023-10-08', 'document', 'doc001', open('file2.doc', 'rb').read())\n",
    "store_attachment('user456', '2023-10-08', 'pdf', 'pdf001', open('file3.pdf', 'rb').read())\n",
    "store_attachment('user456', '2023-10-08', 'video', 'vid001', open('file4.mp4', 'rb').read())"
   ]
  },
  {
   "cell_type": "code",
   "execution_count": 54,
   "metadata": {},
   "outputs": [],
   "source": [
    "# function for retriving attachments\n",
    "def retrieve_all_attachments_for_user(user_id):\n",
    "    select_query = \"\"\"\n",
    "    SELECT date, file_type, file_id\n",
    "    FROM chat_db.chat_system\n",
    "    WHERE user_id = %s\n",
    "    \"\"\"\n",
    "    result = session.execute(select_query, (user_id,))\n",
    "    attachments = []\n",
    "    for row in result:\n",
    "        attachments.append({\n",
    "            'date': row.date,\n",
    "            'file_type': row.file_type,\n",
    "            'file_id': row.file_id\n",
    "        })\n",
    "    return attachments"
   ]
  },
  {
   "cell_type": "code",
   "execution_count": 57,
   "metadata": {},
   "outputs": [
    {
     "name": "stdout",
     "output_type": "stream",
     "text": [
      "[{'date': Date(19638), 'file_type': 'pdf', 'file_id': 'pdf001'}, {'date': Date(19638), 'file_type': 'video', 'file_id': 'vid001'}]\n"
     ]
    }
   ],
   "source": [
    "# Retrieving files using retrieve_attachment function\n",
    "retrive_user = retrieve_all_attachments_for_user('user456')\n",
    "print(retrive_user)"
   ]
  },
  {
   "cell_type": "code",
   "execution_count": null,
   "metadata": {},
   "outputs": [],
   "source": [
    "#Function for deleting attachment\n",
    "def delete_attachment(user_id, date, file_type, file_id):\n",
    "    delete_query = \"\"\"\n",
    "    DELETE FROM chat_db.chat_system\n",
    "    WHERE user_id = %s AND date = %s AND file_type = %s AND file_id = %s\n",
    "    \"\"\"\n",
    "    session.execute(delete_query, (user_id, date, file_type, file_id))\n",
    "    print(\"Attachment deleted successfully!\")"
   ]
  },
  {
   "cell_type": "code",
   "execution_count": 58,
   "metadata": {},
   "outputs": [
    {
     "name": "stdout",
     "output_type": "stream",
     "text": [
      "Attachment deleted successfully!\n",
      "Attachment deleted successfully!\n",
      "Attachment deleted successfully!\n",
      "Attachment deleted successfully!\n"
     ]
    }
   ],
   "source": [
    "# Deleting files using delete_attachment function\n",
    "delete_attachment('user123', '2023-10-08', 'image', 'img001')\n",
    "delete_attachment('user123', '2023-10-08', 'document', 'doc001')\n",
    "delete_attachment('user456', '2023-10-08', 'pdf', 'pdf001')\n",
    "delete_attachment('user456', '2023-10-08', 'video', 'vid001')"
   ]
  }
 ],
 "metadata": {
  "kernelspec": {
   "display_name": "bd",
   "language": "python",
   "name": "python3"
  },
  "language_info": {
   "codemirror_mode": {
    "name": "ipython",
    "version": 3
   },
   "file_extension": ".py",
   "mimetype": "text/x-python",
   "name": "python",
   "nbconvert_exporter": "python",
   "pygments_lexer": "ipython3",
   "version": "3.11.5"
  },
  "orig_nbformat": 4
 },
 "nbformat": 4,
 "nbformat_minor": 2
}
